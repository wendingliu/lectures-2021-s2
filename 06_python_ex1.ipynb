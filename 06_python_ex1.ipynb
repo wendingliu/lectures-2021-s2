{
 "cells": [
  {
   "cell_type": "markdown",
   "metadata": {
    "slideshow": {
     "slide_type": "slide"
    }
   },
   "source": [
    "# Foundations of Computational Economics #6\n",
    "\n",
    "by Fedor Iskhakov, ANU\n",
    "\n",
    "<img src=\"_static/img/dag3logo.png\" style=\"width:256px;\">"
   ]
  },
  {
   "cell_type": "markdown",
   "metadata": {
    "slideshow": {
     "slide_type": "fragment"
    }
   },
   "source": [
    "## Two simple examples\n",
    "\n",
    "<img src=\"_static/img/lab.png\" style=\"width:64px;\">"
   ]
  },
  {
   "cell_type": "markdown",
   "metadata": {
    "slideshow": {
     "slide_type": "subslide"
    }
   },
   "source": [
    "<img src=\"_static/img/youtube.png\" style=\"width:65px;\">\n",
    "\n",
    "[https://youtu.be/UGExPIDwDMs](https://youtu.be/UGExPIDwDMs)\n",
    "\n",
    "Description: Indexing problem and its inverse, base-N number conversion"
   ]
  },
  {
   "cell_type": "markdown",
   "metadata": {
    "slideshow": {
     "slide_type": "slide"
    }
   },
   "source": [
    "### Example 1\n",
    "\n",
    "Code up a function to convert $ (i,j) $ index in a two-dimensional array\n",
    "into a single index $ k $ which swipes the matrix by column.\n",
    "Also code up the inverse of this function."
   ]
  },
  {
   "cell_type": "code",
   "execution_count": null,
   "metadata": {
    "hide-output": false,
    "slideshow": {
     "slide_type": "slide"
    }
   },
   "outputs": [],
   "source": [
    "# code here"
   ]
  },
  {
   "cell_type": "code",
   "execution_count": 7,
   "metadata": {
    "hide-output": false,
    "slideshow": {
     "slide_type": "slide"
    }
   },
   "outputs": [
    {
     "name": "stdout",
     "output_type": "stream",
     "text": [
      "(1,1) --> 1 --> (1,1)\n",
      "(1,2) --> 9 --> (1,2)\n",
      "(1,3) --> 17 --> (1,3)\n",
      "(1,4) --> 25 --> (1,4)\n",
      "(1,5) --> 33 --> (1,5)\n",
      "(1,6) --> 41 --> (1,6)\n",
      "(1,7) --> 49 --> (1,7)\n",
      "(1,8) --> 57 --> (1,8)\n",
      "(1,9) --> 65 --> (1,9)\n",
      "(2,1) --> 2 --> (2,1)\n",
      "(2,2) --> 10 --> (2,2)\n",
      "(2,3) --> 18 --> (2,3)\n",
      "(2,4) --> 26 --> (2,4)\n",
      "(2,5) --> 34 --> (2,5)\n",
      "(2,6) --> 42 --> (2,6)\n",
      "(2,7) --> 50 --> (2,7)\n",
      "(2,8) --> 58 --> (2,8)\n",
      "(2,9) --> 66 --> (2,9)\n",
      "(3,1) --> 3 --> (3,1)\n",
      "(3,2) --> 11 --> (3,2)\n",
      "(3,3) --> 19 --> (3,3)\n",
      "(3,4) --> 27 --> (3,4)\n",
      "(3,5) --> 35 --> (3,5)\n",
      "(3,6) --> 43 --> (3,6)\n",
      "(3,7) --> 51 --> (3,7)\n",
      "(3,8) --> 59 --> (3,8)\n",
      "(3,9) --> 67 --> (3,9)\n",
      "(4,1) --> 4 --> (4,1)\n",
      "(4,2) --> 12 --> (4,2)\n",
      "(4,3) --> 20 --> (4,3)\n",
      "(4,4) --> 28 --> (4,4)\n",
      "(4,5) --> 36 --> (4,5)\n",
      "(4,6) --> 44 --> (4,6)\n",
      "(4,7) --> 52 --> (4,7)\n",
      "(4,8) --> 60 --> (4,8)\n",
      "(4,9) --> 68 --> (4,9)\n",
      "(5,1) --> 5 --> (5,1)\n",
      "(5,2) --> 13 --> (5,2)\n",
      "(5,3) --> 21 --> (5,3)\n",
      "(5,4) --> 29 --> (5,4)\n",
      "(5,5) --> 37 --> (5,5)\n",
      "(5,6) --> 45 --> (5,6)\n",
      "(5,7) --> 53 --> (5,7)\n",
      "(5,8) --> 61 --> (5,8)\n",
      "(5,9) --> 69 --> (5,9)\n",
      "(6,1) --> 6 --> (6,1)\n",
      "(6,2) --> 14 --> (6,2)\n",
      "(6,3) --> 22 --> (6,3)\n",
      "(6,4) --> 30 --> (6,4)\n",
      "(6,5) --> 38 --> (6,5)\n",
      "(6,6) --> 46 --> (6,6)\n",
      "(6,7) --> 54 --> (6,7)\n",
      "(6,8) --> 62 --> (6,8)\n",
      "(6,9) --> 70 --> (6,9)\n",
      "(7,1) --> 7 --> (7,1)\n",
      "(7,2) --> 15 --> (7,2)\n",
      "(7,3) --> 23 --> (7,3)\n",
      "(7,4) --> 31 --> (7,4)\n",
      "(7,5) --> 39 --> (7,5)\n",
      "(7,6) --> 47 --> (7,6)\n",
      "(7,7) --> 55 --> (7,7)\n",
      "(7,8) --> 63 --> (7,8)\n",
      "(7,9) --> 71 --> (7,9)\n"
     ]
    }
   ],
   "source": [
    "def k(i,j,m,base0=True):\n",
    "    '''Convert (i,j) indexes in a two-dimensional array\n",
    "    with m rows into a single index computed column-wise\n",
    "    '''\n",
    "    if base0:\n",
    "        return j*m + i\n",
    "    else:\n",
    "        return (j-1)*m + i\n",
    "\n",
    "def ik(k,m,base0=True):\n",
    "    '''Convert k index in a two-dimensional array\n",
    "    with m rows into a pair of (i,j) indexes\n",
    "    '''\n",
    "    if base0:\n",
    "        j = k//m\n",
    "        i = k%m\n",
    "    else:\n",
    "        j = k//m + 1\n",
    "        i = k%m\n",
    "    return i,j\n",
    "\n",
    "m =8\n",
    "for i in range(1, m):\n",
    "    for j in range(1, 10):\n",
    "        k0 = k(i,j,m, False)\n",
    "        i1,j1 = ik(k0,m, False)\n",
    "        print('(%d,%d) --> %d --> (%d,%d)'%(i,j,k0,i1,j1))"
   ]
  },
  {
   "cell_type": "code",
   "execution_count": null,
   "metadata": {
    "hide-output": false,
    "slideshow": {
     "slide_type": "slide"
    }
   },
   "outputs": [],
   "source": [
    "# Running the check for base1 reveals the bug when i=5!\n",
    "\n",
    "m=5\n",
    "for i in range(1,m+1):\n",
    "    for j in range(1,11):\n",
    "        k0 = k(i,j,m,base0=False)\n",
    "        i1,j1 = ik(k0,m,base0=False)\n",
    "        print('(%d,%d) --> %d --> (%d,%d)'%(i,j,k0,i1,j1))\n",
    "\n",
    "# So, the correct inverse conversion in base1 should be:\n",
    "\n",
    "def ik(k,m,base0=True):\n",
    "    '''Convert k index in a two-dimensional array\n",
    "    with m rows into a pair of (i,j) indexes\n",
    "    '''\n",
    "    if base0:\n",
    "        j = k//m\n",
    "        i = k%m\n",
    "    else:\n",
    "        j = (k-1)//m + 1\n",
    "        i = (k-1)%m + 1\n",
    "    return i,j"
   ]
  },
  {
   "cell_type": "markdown",
   "metadata": {
    "slideshow": {
     "slide_type": "slide"
    }
   },
   "source": [
    "### Example 2\n",
    "\n",
    "Write a function to converter a decimal number into a given base. Return the result as string."
   ]
  },
  {
   "cell_type": "code",
   "execution_count": null,
   "metadata": {
    "hide-output": false,
    "slideshow": {
     "slide_type": "slide"
    }
   },
   "outputs": [],
   "source": [
    "# code here"
   ]
  },
  {
   "cell_type": "code",
   "execution_count": null,
   "metadata": {
    "hide-output": false,
    "slideshow": {
     "slide_type": "slide"
    }
   },
   "outputs": [],
   "source": [
    "def baseN(x,base=2):\n",
    "    '''Converts given number to given base'''\n",
    "    digits = [str(i) for i in range(10)] + [chr(i) for i in range(97,123)]\n",
    "    assert 2 <= base <= len(digits),'Number base must be between 2 and %d'%(len(digits))\n",
    "    if x == 0:\n",
    "        return '0'\n",
    "    out = []\n",
    "    while x>0:\n",
    "        i = x%base\n",
    "        out.append(digits[i])\n",
    "        x = x//base\n",
    "    return ''.join(out[::-1])\n",
    "\n",
    "for n in [3,8,35,574,1023523,9999]:\n",
    "    for b in range(36,1,-4):\n",
    "        print('%d in base %d is %s' % (n,b,baseN(n,b)))\n",
    "    print()"
   ]
  }
 ],
 "metadata": {
  "celltoolbar": "Slideshow",
  "date": 1628246895.2099788,
  "filename": "06_python_ex1.rst",
  "kernelspec": {
   "display_name": "Python 3",
   "language": "python",
   "name": "python3"
  },
  "language_info": {
   "codemirror_mode": {
    "name": "ipython",
    "version": 3
   },
   "file_extension": ".py",
   "mimetype": "text/x-python",
   "name": "python",
   "nbconvert_exporter": "python",
   "pygments_lexer": "ipython3",
   "version": "3.8.5"
  },
  "title": "Foundations of Computational Economics #6",
  "toc": {
   "base_numbering": 1,
   "nav_menu": {},
   "number_sections": true,
   "sideBar": true,
   "skip_h1_title": false,
   "title_cell": "Table of Contents",
   "title_sidebar": "Contents",
   "toc_cell": false,
   "toc_position": {},
   "toc_section_display": true,
   "toc_window_display": false
  },
  "varInspector": {
   "cols": {
    "lenName": 16,
    "lenType": 16,
    "lenVar": 40
   },
   "kernels_config": {
    "python": {
     "delete_cmd_postfix": "",
     "delete_cmd_prefix": "del ",
     "library": "var_list.py",
     "varRefreshCmd": "print(var_dic_list())"
    },
    "r": {
     "delete_cmd_postfix": ") ",
     "delete_cmd_prefix": "rm(",
     "library": "var_list.r",
     "varRefreshCmd": "cat(var_dic_list()) "
    }
   },
   "types_to_exclude": [
    "module",
    "function",
    "builtin_function_or_method",
    "instance",
    "_Feature"
   ],
   "window_display": false
  }
 },
 "nbformat": 4,
 "nbformat_minor": 4
}
